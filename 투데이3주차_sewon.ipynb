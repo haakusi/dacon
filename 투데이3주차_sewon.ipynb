{
  "nbformat": 4,
  "nbformat_minor": 0,
  "metadata": {
    "colab": {
      "name": "투데이3주차_sewon",
      "provenance": [],
      "collapsed_sections": [],
      "authorship_tag": "ABX9TyMEeyxLy/2YNYvnTgo+u7Fv",
      "include_colab_link": true
    },
    "kernelspec": {
      "name": "python3",
      "display_name": "Python 3"
    },
    "language_info": {
      "name": "python"
    }
  },
  "cells": [
    {
      "cell_type": "markdown",
      "metadata": {
        "id": "view-in-github",
        "colab_type": "text"
      },
      "source": [
        "<a href=\"https://colab.research.google.com/github/haakusi/dacon/blob/main/%ED%88%AC%EB%8D%B0%EC%9D%B43%EC%A3%BC%EC%B0%A8_sewon.ipynb\" target=\"_parent\"><img src=\"https://colab.research.google.com/assets/colab-badge.svg\" alt=\"Open In Colab\"/></a>"
      ]
    },
    {
      "cell_type": "markdown",
      "source": [
        "# 데이크루3기 투데이_3주차 기본적 분석\n",
        "\n",
        "- **session 3.** 기본적 분석\n",
        "    - 기업 재무제표 항목 이해 (PER, PBR, EPS 등)\n",
        "    - 기본적 분석 이해\n",
        "    - 기본적 분석 활용 투자전략 구현 및 백테스팅"
      ],
      "metadata": {
        "id": "zr7gPPmuNit5"
      }
    },
    {
      "cell_type": "markdown",
      "source": [
        "## 기업 재무재표 항목이해\n",
        "- 즉, ROE를 제외한 나머지 PER, PBR, EV/EBITDA는 시장평균가보다 저평가 되어있고 수치가 낮은것이 좋다.\n",
        "- 주주현황 지분율이 높으면 위험성이 낮아진다. 세력의 영향력이 줄기 때문. 하지만 때로 관계자 주주들을 유의해야한다.\n",
        "- 투자의견 컨센서스 그래프는 4.0 이상이 권장 매수 종목이다. (그냥 넘어가자)\n",
        "- 매출액, 영업이익, 당기순이익 중에서 **당기순이익**을 우선순위로 보자. <br>\n",
        "(당기순이익 : 기간을 정해두고 그 기간동안 매출에서 모든 지출비용 제외하고 남은돈)\n",
        "- 부채비율 : 기업이 갚아야 할 빛으로 통상 100이하면 안전하다. (바이오주는 부채비율 평가 불가함)"
      ],
      "metadata": {
        "id": "8kVGCALcNkhg"
      }
    },
    {
      "cell_type": "markdown",
      "source": [
        "### PER\n",
        ": 주가수익비율, 주가/주당순이익, 낮으면 상승 가능성이 높음 <br>\n",
        "낮으면 좋지만, 너무 낮으면 오히려 위험하다. 보편적으로 8~15를 안전으로 본다. <br>\n",
        "동종 업종보다 낮으면 저평가라 할 수 있다. <br>\n",
        "시가총액에 비해 순이익이 높으면 PER 값은 낮아진다. <br>\n",
        "PER 값이 크면 주식 가격이 고평가 되어있고, 값이 작으면 저평가 되어있다고 판단 한다. <br>\n",
        "가치주보다 성장주의 PER이 압도적으로 높다. 계속 성장 중이기 때문에 지금 당장의 수익이 적기 때문이다. <br>\n",
        "- PER = 주가 / EPS(주당순이익)"
      ],
      "metadata": {
        "id": "vPf2FLYpNkkJ"
      }
    },
    {
      "cell_type": "markdown",
      "source": [
        "### PBR\n",
        ": 주가 순자산 비율, 주가와 자산가치의 비율, 주가의 적정성 여부 판단, 낮을수록 좋음 <br>\n",
        "수치가 높게 나온다면 > 1주당 가지고 있는 순자산의 비중이 적다 > 고평가 <br>\n",
        "기업의 주가가 현재 몇 배인지 나타내는 값으로, 통상 2배까지 안전하다. 너무 낮으면 위험하고 0.5~1.5배가 가장 안전함 <br>\n",
        "'PBR 1배'라는 키워드, 즉 기업의 자산을 모두 팔면, 딱 투자한 자금만 회수가 가능하다는 뜻이다. <br>\n",
        "PBR 값이 크면 고평가, 작으면 저평가 되어 있다고 볼 수 있다. <br>\n",
        "하지만, 무형자산은 자산으로 포함하지 않기 때문에 공장, 설비, 부지 등이 적은 소프트웨어 업체 및 콘텐츠 업체들은 상대적으로 PBR이 높을수 밖에 없다. <br>\n",
        "- PBR = 주가 / BPS(주당순자산)"
      ],
      "metadata": {
        "id": "6EUkbngZNkm6"
      }
    },
    {
      "cell_type": "markdown",
      "source": [
        "### BPS\n",
        ": 주가의 적정가격을 나타내는 값, 실제 주가가 BPS 보다 높으면 위험한 종목임"
      ],
      "metadata": {
        "id": "vsoSzD4cT8OA"
      }
    },
    {
      "cell_type": "markdown",
      "source": [
        "### EPS\n",
        ": 주당순이익, 한 주당 1년 동안의 순이익 <br>\n",
        "일반적으로 EPS 값이 높을수록 투자가치가 좋다고 할 수 있다. <br>\n",
        "- EPS = 주가 / 발행주식수(PER)"
      ],
      "metadata": {
        "id": "EW_qGoKnNksV"
      }
    },
    {
      "cell_type": "markdown",
      "source": [
        "### ROE\n",
        ": 자기자본 이익률, 자본금 투여하여 수익 창출 정도, 높으면 상승 가능성 높음 <br>\n",
        "부채를 뺀 순수 본인의 자산으로 이익을 창출할 수 있는 능력을 수치화 시킨것 <br>\n",
        "버핏이 즐겨보던 지표로, ROE가 15%이상 3년 꾸준히 증가하는 기업에 투자했었다고 한다. <br>\n",
        "**ROE가 15%면 100만원을 투자해 15만의 수익을 거두는 기업을 뜻함** <br>\n",
        "단, ROE를 높이기 위해 당기순이익을 영업외 이익으로 채우거나, 자기 자본을 의도적으로 낮춰버릴 수 있음을 유의 <br>\n",
        "자기 자본이 아닌 빚으로 수익을 내도 ROE지표는 높아 보일 수 있다. <br>\n",
        "- (당기순이익 / 평균자기자본) x 100"
      ],
      "metadata": {
        "id": "l2p4gMPGPzhs"
      }
    },
    {
      "cell_type": "markdown",
      "source": [
        "### GP/A\n",
        ": 사업 마진률\n",
        "GP/A는 기업의 수익성을 표현하는 지표이기에 높을수록 좋다. <br>\n",
        "- GP/A = (매출액-매출원가) / 자기자본+부채 <br>\n",
        "GP/A = 매출총이익 / 자산총계 <br>\n",
        "자산에는 자본뿐만 아니라 부채도 포함된다. <br>\n",
        "그러나 부채가 아무리 많아도 매출이 그만큼 더 많으면 GP/A가 높아질 수 있다. <br>\n",
        "GP/A 단독으로 판단하지 않으며 여러 다른 지표들과 결합하여 판단해야 한다. <br>\n"
      ],
      "metadata": {
        "id": "7lGqwVUwVwE2"
      }
    },
    {
      "cell_type": "markdown",
      "source": [
        "## 기본적 분석 이해"
      ],
      "metadata": {
        "id": "DiJ4HZy-NuVL"
      }
    },
    {
      "cell_type": "markdown",
      "source": [
        "\b지표들은 기업의 가치를 판단하는데 유용한 수단이 되는 것을 알 수 있다. <br>\n",
        "선행 투자자들의 조언과 노하우를 듣고 그 시선으로 바라보는 것은 좋다. <br>\n",
        "분명 재무제표와 지수와 시장을 바라보는 노하우들이 증권사에는 있을 것인데 그걸 시중에 풀지는 않는다. <br>\n",
        "그래서 아무추어들이 재무제표를 참고한다는건 많이들 웃는 분위기인 만큼, 꾸준히 바라보는 눈을 키울 필요가 있어 보인다. <br>\n",
        "사실 제일 그럴싸하게 말하는 지표들이고, 끝나고 나서 ~했제, ~그랬제 하기에 좋은 것들이라 <br>\n",
        "하지만, 역으로 재무제표 기반 분석으로 모델링을 몇가지 만들고 백테스팅을 하고 맞춰보고 <br>\n",
        "실제에 투자해보면 또 좋은 결과를 만들어 낼 수 있을 것이라 생각이 든다. <br>\n",
        "**정말 아닌 기업들을 거르는데 사용할 수 있지도 않는가, 스레시홀드값으로써 활용**\n",
        "- 스캘핑과 재무제표의 관계도 모델링 하고 표로 분석하면 좋을 것 같다."
      ],
      "metadata": {
        "id": "UQxHFjIrNuYB"
      }
    },
    {
      "cell_type": "markdown",
      "source": [
        "#### 장기투자\n",
        ": 우량 기업 장기투자는(삼성전자 초우량기업) 수익률이 높다. 자식에게 주식계좌를 만들어 용돈이 생길때마다 주식을 사주는 부모들이 늘고 있는 것도 같은 이유.\n",
        " \n",
        "\n",
        "#### 주식 스윙\n",
        ": 스윙은 보통 매수 후 1주일~1달 정도 지나고 매도하는 것을 말한다. 여기서부터는 차트 분석 등 소위 말하는 \"기술적 분석\"이 필요하다. 장기투자가 내 돈을 묻어 놓는 투자의 영역이라면 스윙은 주식 차트의 지지와 저항, 단기저점과 단기고점 등에 대해서 분석해야 한다. 그리고 경제 뉴스, 해당 업종에 대한 이슈 등에도 관심을 가지고 호재가 터지기 전 미리 진입하여 싸게 산 뒤 호재 발생 후 급등 지점에 파는 방법이다.\n",
        "\n",
        "#### 단타\n",
        ": 1일~3일 정도 안에 매매를 반복하는 것. 정의를 내리는 사람들에 따라 스윙과 크게 차이는 없다. 최근에는 단타의 의미가 스캘핑으로 번지고 있는 상황.\n",
        "\n",
        "\n",
        "#### 스캘핑 \n",
        ": 매수 후 5초, 10초 후 매도하는 경우도 있고 10분, 20분을 가능 경우도 있다. 왜냐하면 수급(매수와 매도 물량)이 좋은지, 지수(코스피와 코스닥, 미국 다우와 나스닥의 흐름)를 동시에 확인하면서 순간적으로 대응해야 하기 때문이다. 외국인과 기관의 순매수(매수와 매도의 합이 양의 값을 가지는 것)인지 여부 등도 확인을 하는데 가장 중요한 것은 거래량과 거래대금이다."
      ],
      "metadata": {
        "id": "f02bVqrdNua-"
      }
    },
    {
      "cell_type": "markdown",
      "source": [
        "## 기본적 분석 활용 투자전략 구현 및 백테스팅"
      ],
      "metadata": {
        "id": "ykwqJL-8Nuez"
      }
    },
    {
      "cell_type": "code",
      "source": [
        ""
      ],
      "metadata": {
        "id": "ePfWftN9N1Co"
      },
      "execution_count": null,
      "outputs": []
    },
    {
      "cell_type": "code",
      "source": [
        ""
      ],
      "metadata": {
        "id": "WFCp8u0YXz6H"
      },
      "execution_count": null,
      "outputs": []
    },
    {
      "cell_type": "code",
      "source": [
        ""
      ],
      "metadata": {
        "id": "yu7gOzxIXz8q"
      },
      "execution_count": null,
      "outputs": []
    },
    {
      "cell_type": "code",
      "source": [
        ""
      ],
      "metadata": {
        "id": "xn_qR4AhXz_Q"
      },
      "execution_count": null,
      "outputs": []
    }
  ]
}