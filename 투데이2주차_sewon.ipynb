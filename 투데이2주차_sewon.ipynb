{
  "nbformat": 4,
  "nbformat_minor": 0,
  "metadata": {
    "colab": {
      "name": "투데이2주차_sewon.ipynb",
      "provenance": [],
      "collapsed_sections": [],
      "include_colab_link": true
    },
    "kernelspec": {
      "name": "python3",
      "display_name": "Python 3"
    },
    "language_info": {
      "name": "python"
    }
  },
  "cells": [
    {
      "cell_type": "markdown",
      "metadata": {
        "id": "view-in-github",
        "colab_type": "text"
      },
      "source": [
        "<a href=\"https://colab.research.google.com/github/haakusi/dacon/blob/main/%ED%88%AC%EB%8D%B0%EC%9D%B42%EC%A3%BC%EC%B0%A8_sewon.ipynb\" target=\"_parent\"><img src=\"https://colab.research.google.com/assets/colab-badge.svg\" alt=\"Open In Colab\"/></a>"
      ]
    },
    {
      "cell_type": "markdown",
      "source": [
        "# 데이크루3기 투데이_2주차 거시경제\n",
        "\n",
        "- **session 2.** 거시경제 분석\n",
        "    - 거시경제 이론 이해 (재정정책, 통화정책, 기준금리, 인플레이션 등)\n",
        "    - 거시경제 지표 비교 분석 (금리, 통화량, GDP 등등)\n",
        "    - 뉴스데이터&NLP활용 경기 지수 개발\n",
        "    - 경기 지수 활용 경기 순환 주기 파악"
      ],
      "metadata": {
        "id": "6VbutmYe6FJ5"
      }
    },
    {
      "cell_type": "markdown",
      "source": [
        "## 1. 거시경제 이론 이해"
      ],
      "metadata": {
        "id": "8NDBZ4306IVp"
      }
    },
    {
      "cell_type": "markdown",
      "source": [
        "### 경제의 불확실성과 리스크를 축소하여 시장운영에 필요한 판단과 자원배분의 효율성을 증대시켜 사후후생을 극대화 하는데있다. <br>\n",
        "- 재정정책\n",
        "- 통화정책\n",
        "<br>\n",
        "\n",
        "재정정책은 세율, 정부지출 및 재정흑자/적자 등을 통하여 경기를 조정하는 역할을 한다. <br>\n",
        "통화정책은 금리를 통해 금융시장과 소비 및 투자의 인센티브를 조정하여 성장과 물가에 영향을 준다. <br>\n",
        "\n",
        "거시경제정책은 경기 변동성을 최소화시키는 데 유용하나 구조개혁의 역할을 대신할 수는 없다. <br>\n",
        "\n",
        "재정정책 : 경기변동성 축소 <br>\n",
        "통화정책 : 물가안정 목표 <br>\n",
        "\n",
        "미국의 경우 2000년대에 완화적 통화정책을 지속적으로 유지했다. 위기 이후에는 중앙은행이 국채 및 MBS를 매입하여 장기금리를 낮추는 비전통적 통화정책을 추가로 이행했다. <br>\n",
        "\n",
        "재정정책의 경우 세수의 변동이 경기에 민감한 관계로 자동안정화 역할이 상대적으로 크긴 했지만 그럼에도 글로벌 금융위기와 같은 큰 충격에는 추가적인 재량정책이 필요했다. <br>\n",
        "\n",
        "금융위기 당시 세수부족으로 재정적자가 확대된 상황, 실업률 상승이 과도하여 추가적인 재정지출이 요구되었다. 이후 하락하는 실업률 대비하여 재정적자 규모가 보다 점진적으로 축소됨에 따라 재정정책의 기여가 확대되는 결과를 초래했다. <br>\n",
        "\n",
        "금융위기의 충격에 대응하여 거시경제정책들이 같은 방향으로 움직이며 서로의 효과를 극대화하는 것을 알 수 있다. 재정지출 재원을 조달하기 위해 발행한 채권의 상당부분을 미연준이 매입하면서 시장에 주는 충격을 완화시키는 것에서 잘 알수 있다. <br>\n",
        "\n",
        "만약 부채증가가 수반된 정책을 통하여 중기적으로 더 높은 성장을 견인함으로써 물가가 목표치에 도달하고 GDP대비 부채의 비율이 하락하게 된다면 정책의 목표를 달성하는 것이다. 하지만 이는 확장적 정책에 따른 자원배분이 효율적으로 이루어질 때만 가능하다. 만약 경기반등이 일시적이고 지속가능하지 않으면 경제에 부담을 가중하게 된다. <br><br>\n",
        "\n",
        "즉 쉽게 말하면, \n",
        "\n",
        "재정정책은 정부가 돈을 써서 재화에 대한 수요를 직접적으로 만들어 내는 정책 <br>\n",
        "통화정책은 자본의 사용료인 금리를 조정해 간접적으로 경제를 움직이는 정책 <br> \n",
        "\n",
        "흔히 재정정책은 막대기로 벽돌을 미는 것 <br>\n",
        "통화정책은 고무줄로 벽돌을 당기는 것 <br>\n",
        "\n",
        "- 기준금리\n",
        ": 한 나라의 중앙은행이 결정하는 금리를 말한다. <br> \n",
        "한은이 기준금리를 올리는 것은 시장에 돈이 덜 돌게 하겠다는 뜻이다. 돈이 귀해지면 자연스레 다른 금리도 올라간다. 대출, 예금, 채권 등이 모두 영향을 받는다. 주택담보대출, 마이너스통장, 주식거래 등 파급효과가 크다. <br>\n",
        "\n",
        "- 인플레이션\n",
        ": 한 국가의 재화와 용역 가격 등의 전반적인 물가가 지속적으로 상승하는 경제상태를 말한다. 해당 국가의 통화가치 하락, 구매력의 약화를 동반한다. 인플레이션의 주요원인으로는 유통되는 통화공급의 증가 등이 있다. 또한 통화의 팽창뿐 아니라 소비자 투자, 재정지출 등 수요 확대에 의해 생긴다. <br>\n",
        "필요한 화폐량보다 지폐를 많이 발행할때 일어나는 지폐인플레이션 <br>\n",
        "은행의 대출 증가로 물가가 오르는 상태, 은행이 과도한 대출을 하여 기업의 과잉투자 분위기를 조성할때 일어나는 신용인플레이션 <br>\n",
        "국제수지의 지불초과로 인해 수환율이 급작스럽게 오르고 수입품의 가격이 폭등함에 따라 국내 물가도 동반상승하는 환 인플레이션 <br>\n",
        "수요의 증대에 따른 수요인플레이션 <br>\n",
        "코스트의 상승에 물가상승의 원인을 돌리는 것을 코스트 인플레이션 <br>\n",
        "\n",
        "\n"
      ],
      "metadata": {
        "id": "YAB6eIMqcLcT"
      }
    },
    {
      "cell_type": "markdown",
      "source": [
        "## 2. 거시경제 지표 비교 분석"
      ],
      "metadata": {
        "id": "eL4O16Ir6IYT"
      }
    },
    {
      "cell_type": "markdown",
      "source": [
        ""
      ],
      "metadata": {
        "id": "heA28DYElyGl"
      }
    },
    {
      "cell_type": "code",
      "source": [
        "import datetime                     \n",
        "import requests\n",
        "import pandas as pd\n",
        "from bs4 import BeautifulSoup\n",
        "\n",
        "private_api_key = \"Q6DB5O6BJUSU1LD6OZBQ\"\n",
        "\n",
        "# ECOS 에서 데이터를 호출하는 함수를 만듭니다.\n",
        "def EcosDownload(Statcode, Freq, Begdate, Enddate, Subcode1, Subcode2, Subcode3):\n",
        "    url = 'http://ecos.bok.or.kr/api/StatisticSearch/%s/xml/kr/1/100000/%s/%s/%s/%s/%s/%s/%s/'%(private_api_key, Statcode, Freq, Begdate, Enddate, Subcode1, Subcode2, Subcode3)\n",
        "    raw = requests.get(url)\n",
        "    xml = BeautifulSoup(raw.text,'xml')\n",
        "\n",
        "    raw_data = xml.find_all(\"row\")\n",
        "    date_list = []\n",
        "    value_list = []\n",
        "\n",
        "    for item in raw_data:\n",
        "        value = item.find('DATA_VALUE').text.encode('utf-8')\n",
        "        date_str = item.find('TIME').text\n",
        "        value = float(value)\n",
        "        date_list.append(datetime.datetime.strptime(date_str,'%Y%m'))\n",
        "        value_list.append(value)\n",
        "\n",
        "    df = pd.DataFrame(index = date_list)\n",
        "    df['value'] = value_list\n",
        "\n",
        "    return df"
      ],
      "metadata": {
        "id": "6ITpoLj4mZKR"
      },
      "execution_count": null,
      "outputs": []
    },
    {
      "cell_type": "code",
      "source": [
        "interestRate = EcosDownload('722Y001', 'M', '201901', '202207', '0101000','','')\n",
        "cpi = EcosDownload('901Y009', 'M', '201901', '202206', '0', '', '')\n",
        "realEstate = EcosDownload('901Y064', 'M', '201901', '202206', 'P65B','','')"
      ],
      "metadata": {
        "id": "uod17ZWTmiOU"
      },
      "execution_count": null,
      "outputs": []
    },
    {
      "cell_type": "code",
      "source": [
        "df['interestRate'] = interestRate\n",
        "df['cpi'] = cpi\n",
        "df['realEstate'] = realEstate\n",
        "df"
      ],
      "metadata": {
        "id": "VbOqWgZPmj3b"
      },
      "execution_count": null,
      "outputs": []
    },
    {
      "cell_type": "code",
      "source": [
        "interestRate[[\"interestRate\",\"cpi\",\"realEstate\"]].plot(figsize=(10,4), title=\"interestRate\")"
      ],
      "metadata": {
        "id": "zQievqs_mj9Z"
      },
      "execution_count": null,
      "outputs": []
    },
    {
      "cell_type": "markdown",
      "source": [
        "## 3. 뉴스데이터&NLP활용 경기 지수 개발"
      ],
      "metadata": {
        "id": "yoby1U836IbC"
      }
    },
    {
      "cell_type": "markdown",
      "source": [
        "어떤 데이터들이 경기지수에 영향을 미친다고 할 수 있는가? <br>\n",
        "\n",
        "> 기자들이 올리는 뉴스기반 감성분석을 통해 긍정/부정 분류 :\n",
        "- 뉴스가 어느 카테고리 범주에 속하는가\n",
        "  - 경제 카테고리에 쏟아지는 뉴스의 긍정/부정 평가가 경기 지수로 사용될 수 있는가\n",
        "  - 경제가 아닌, 경제 호황을 대변하는 다른 분야의 긍정/부정 평가를 경기 보조 지표로 사용할 수 있는가\n",
        "- 특정 단어 기반 조회된 기사 갯수 기반으로 경기 지수가 의미가 있는 것인가\n",
        "  - 경제 카테고리에서 크롤링 > 탑 100 단어 기반 > 조회시 뉴스 개수\n",
        "\n",
        "> 기자들은 조회수를 뽑기위해 과장된 거짓의 단어를 사용한다\n",
        "\n",
        "> 경제 침체와 직접적인 영향을 끼치는 단어\n",
        "  - 전쟁(하지만 전쟁이 경제 활성을 일으키기도 한다), 금리 인상, 유가 상승, IMF, CPI(소비자물가지수) ...\n",
        "\n",
        "> 경제 호황과 직접적인 영향을 끼치는 단어\n",
        "  - 여행, 실업자 감소, GDP 증가, ..."
      ],
      "metadata": {
        "id": "59zkEfFuGyCV"
      }
    },
    {
      "cell_type": "code",
      "source": [
        "!pip3 install selenium"
      ],
      "metadata": {
        "id": "nW2OuTfq8Xwo"
      },
      "execution_count": null,
      "outputs": []
    },
    {
      "cell_type": "code",
      "source": [
        "from urllib.request import urlopen\n",
        "from bs4 import BeautifulSoup\n",
        "from glob import glob\n",
        "import math\n",
        "import time\n",
        "from time import gmtime, strftime\n",
        "import re\n",
        "import requests\n",
        "import argparse\n",
        "import json\n",
        "import os\n",
        "import easydict\n",
        "import datetime\n",
        "from datetime import date\n",
        "import time\n",
        "import requests\n",
        "import pandas as pd\n",
        "from math import log\n",
        "from selenium import webdriver\n",
        "from selenium.webdriver.common.keys import Keys\n",
        "options = webdriver.ChromeOptions()\n",
        "options.headless = True\n",
        "options.add_argument('--headless')\n",
        "options.add_argument('--no-sandbox')\n",
        "options.add_argument('--disable-dev-shm-usage')"
      ],
      "metadata": {
        "id": "fvE1Kreb7ymb"
      },
      "execution_count": null,
      "outputs": []
    },
    {
      "cell_type": "code",
      "source": [
        "def parseDate(dateStr):\n",
        "    return str(dateStr).split('-')\n",
        "\n",
        "def weekDate(inputDate):\n",
        "    #print(inputDate)\n",
        "    a = parseDate(inputDate)\n",
        "    formatDate = date(int(a[0]), int(a[1]), int(a[2]))\n",
        "    return formatDate - datetime.timedelta(days=7)\n",
        "\n",
        "def googleNews_search(keyword, beginDate):\n",
        "    startYear = \"\"\n",
        "    startMonth = \"\"\n",
        "    startDay = \"\"\n",
        "    endYear = \"\"\n",
        "    endMonth = \"\"\n",
        "    endDay = \"\"\n",
        "    keyword1 = keyword.split()[0]\n",
        "    keyword2 = keyword.split()[1]\n",
        "    keyword3 = keyword.split()[2]\n",
        "\n",
        "    # 파라미터로 넘겨 받은 startDate, endDate를 Google News URL에 맞춰서 넣기 위해서 포맷을 맞춰준다.\n",
        "    # beginDate 기준 까지 지난 1주일을 검색한다. ex) begin = 2018-11-18\n",
        "    tmpEndDate = parseDate(beginDate)\n",
        "    tepStartDate = weekDate(beginDate)\n",
        "    \n",
        "    # 여기서 년월일 넘어가는거 고려해서 파이썬 내장 Date를 기준으로 -7을 해서 startYear, Month, Day를 구성한다. Date 객체 관련 검색해서 startYear, Month, Day 세개 만들어주기 **\n",
        "    startYear = tepStartDate.year\n",
        "    startMonth = tepStartDate.month\n",
        "    startDay = tepStartDate.day\n",
        "\n",
        "    endYear = tmpEndDate[0]\n",
        "    endMonth = tmpEndDate[1]\n",
        "    endDay = tmpEndDate[2]\n",
        "\n",
        "    url = 'https://www.google.com/search?q={0}+AND+{1}+AND+{2}&rlz=1C1GCEU_koKR938KR938&biw=1920&bih=969&source=lnt&tbs=cdr%3A1%2Ccd_min%3A{4}%2F{5}%2F{3}%2Ccd_max%3A{7}%2F{8}%2F{6}&tbm=nws'.format(keyword1, keyword2, keyword3, startYear, startMonth, startDay, endYear, endMonth, endDay)\n",
        "\n",
        "    driver = webdriver.Chrome(executable_path= r'/Users/haku/Desktop/chromedriver', chrome_options=options)\n",
        "    driver.get(url)\n",
        "    \n",
        "    headers = {'user-agent':'Mozilla/5.0 (Windows NT 10.0; Win64; x64) AppleWebKit/537.36 (KHTML, like Gecko) Chrome/83.0.4103.62 Safari/537.36'}\n",
        "    res = requests.get(url, headers=headers)\n",
        "\n",
        "    # soup = BeautifulSoup(res.text, 'lxml')\n",
        "    # num = soup.select_one('#result-stats').text\n",
        "    # num = num[num.find('약',)+2:num.rfind('개')]\n",
        "    # num = int(num.replace(',',''))\n",
        "    # print('url: ', url)\n",
        "    # print('num: ', num)\n",
        "    \n",
        "    return num\n",
        "\n",
        "\n",
        "def NaverNews_search(keyword, beginDate):\n",
        "\n",
        "  return;\n",
        "\n",
        "def DaumNews_search(keyword, beginDate):\n",
        "\n",
        "  return;\n",
        "\n",
        "def BigKinds_search(keyword, beginDate):\n",
        "\n",
        "  return;\n",
        "\n",
        "doublespace_pattern = re.compile('\\s+')\n",
        "lineseparator_pattern = re.compile('\\n+')"
      ],
      "metadata": {
        "id": "d7qgJ9Qk8geZ"
      },
      "execution_count": null,
      "outputs": []
    },
    {
      "cell_type": "markdown",
      "source": [
        "## 4. 경기 지수 활용 경기 순환 주기 파악"
      ],
      "metadata": {
        "id": "eZCdi5i36Qjb"
      }
    }
  ]
}